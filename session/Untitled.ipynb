{
 "cells": [
  {
   "cell_type": "markdown",
   "id": "tutorial-intro",
   "metadata": {},
   "source": [
    "# Part 1: Creating ndarrays"
   ]
  },
  {
   "cell_type": "markdown",
   "id": "tribal-debut",
   "metadata": {},
   "source": [
    "1. Convert the below given list of strings to a int32 NumPy array"
   ]
  },
  {
   "cell_type": "code",
   "execution_count": 3,
   "id": "facial-accident",
   "metadata": {},
   "outputs": [],
   "source": [
    "import numpy as np"
   ]
  },
  {
   "cell_type": "code",
   "execution_count": 11,
   "id": "electoral-iceland",
   "metadata": {},
   "outputs": [],
   "source": [
    "slist = ['2.5', '1.25', '0.024','2.999','1024.5']"
   ]
  },
  {
   "cell_type": "code",
   "execution_count": 22,
   "id": "hawaiian-trade",
   "metadata": {},
   "outputs": [
    {
     "data": {
      "text/plain": [
       "array([   2,    1,    0,    2, 1024])"
      ]
     },
     "execution_count": 22,
     "metadata": {},
     "output_type": "execute_result"
    }
   ],
   "source": [
    "ar = np.array(slist)\n",
    "ar = ar.astype(float)\n",
    "ar = ar.astype(int)\n",
    "ar"
   ]
  },
  {
   "cell_type": "markdown",
   "id": "supreme-training",
   "metadata": {},
   "source": [
    "2. Create an empty 5x5 NumPy matrix"
   ]
  },
  {
   "cell_type": "code",
   "execution_count": 30,
   "id": "efficient-comedy",
   "metadata": {},
   "outputs": [
    {
     "data": {
      "text/plain": [
       "array([[1.86918699e-306, 1.69121096e-306, 1.95820216e-306,\n",
       "        1.37961641e-306, 2.04721734e-306],\n",
       "       [6.23053614e-307, 1.20161797e-306, 6.23058707e-307,\n",
       "        9.34611148e-307, 1.29061889e-306],\n",
       "       [6.23060065e-307, 1.06810268e-306, 8.06632139e-308,\n",
       "        1.60218491e-306, 1.02360867e-306],\n",
       "       [1.95821439e-306, 8.01097889e-307, 1.78020169e-306,\n",
       "        7.56601165e-307, 1.02359984e-306],\n",
       "       [1.33510679e-306, 2.22522597e-306, 1.60219035e-306,\n",
       "        1.33511969e-306, 2.56765117e-312]])"
      ]
     },
     "execution_count": 30,
     "metadata": {},
     "output_type": "execute_result"
    }
   ],
   "source": [
    "arr = np.empty((5,5))\n",
    "arr"
   ]
  },
  {
   "cell_type": "markdown",
   "id": "through-anthropology",
   "metadata": {},
   "source": [
    "# Part 2: Operations between Arrays and Scalars"
   ]
  },
  {
   "cell_type": "markdown",
   "id": "opposite-clerk",
   "metadata": {},
   "source": [
    "3. Create a 1x25 Numpy array whose elements consist of geometric progression with a = 1 & r = 3, terms are arranged indexwise, for ex"
   ]
  },
  {
   "cell_type": "code",
   "execution_count": 33,
   "id": "forty-highway",
   "metadata": {},
   "outputs": [],
   "source": [
    "sample_output = [1,3,9,27,81]"
   ]
  },
  {
   "cell_type": "code",
   "execution_count": 34,
   "id": "applied-combining",
   "metadata": {},
   "outputs": [
    {
     "data": {
      "text/plain": [
       "array([ 0,  1,  2,  3,  4,  5,  6,  7,  8,  9, 10, 11, 12, 13, 14, 15, 16,\n",
       "       17, 18, 19, 20, 21, 22, 23, 24, 25])"
      ]
     },
     "execution_count": 34,
     "metadata": {},
     "output_type": "execute_result"
    }
   ],
   "source": [
    "arr = np.arange(0,26)\n",
    "arr"
   ]
  },
  {
   "cell_type": "code",
   "execution_count": 50,
   "id": "usual-portfolio",
   "metadata": {},
   "outputs": [
    {
     "data": {
      "text/plain": [
       "array([[0, 1, 2],\n",
       "       [3, 4, 5],\n",
       "       [6, 7, 8]])"
      ]
     },
     "execution_count": 50,
     "metadata": {},
     "output_type": "execute_result"
    }
   ],
   "source": [
    "arr = np.arange(9).reshape((3,3))\n",
    "arr"
   ]
  },
  {
   "cell_type": "code",
   "execution_count": 51,
   "id": "welsh-behavior",
   "metadata": {},
   "outputs": [
    {
     "data": {
      "text/plain": [
       "array([[0, 1, 0],\n",
       "       [1, 0, 1],\n",
       "       [0, 1, 0]], dtype=int32)"
      ]
     },
     "execution_count": 51,
     "metadata": {},
     "output_type": "execute_result"
    }
   ],
   "source": [
    "tarry = arr%2\n",
    "tarry"
   ]
  },
  {
   "cell_type": "code",
   "execution_count": 52,
   "id": "crude-olympus",
   "metadata": {},
   "outputs": [
    {
     "data": {
      "text/plain": [
       "array([[0, 0, 2],\n",
       "       [0, 4, 0],\n",
       "       [6, 0, 8]])"
      ]
     },
     "execution_count": 52,
     "metadata": {},
     "output_type": "execute_result"
    }
   ],
   "source": [
    "arr[tarry.astype(bool)] = 0\n",
    "arr"
   ]
  },
  {
   "cell_type": "code",
   "execution_count": 53,
   "id": "aware-startup",
   "metadata": {},
   "outputs": [],
   "source": [
    "arr = np.arange(16).reshape((2, 2, 4))"
   ]
  },
  {
   "cell_type": "code",
   "execution_count": 54,
   "id": "exact-metadata",
   "metadata": {},
   "outputs": [
    {
     "data": {
      "text/plain": [
       "array([[[ 0,  1,  2,  3],\n",
       "        [ 8,  9, 10, 11]],\n",
       "\n",
       "       [[ 4,  5,  6,  7],\n",
       "        [12, 13, 14, 15]]])"
      ]
     },
     "execution_count": 54,
     "metadata": {},
     "output_type": "execute_result"
    }
   ],
   "source": [
    "arr.swapaxes(0, 1)"
   ]
  },
  {
   "cell_type": "code",
   "execution_count": 55,
   "id": "positive-visiting",
   "metadata": {},
   "outputs": [
    {
     "data": {
      "text/plain": [
       "array([[[ 0,  8],\n",
       "        [ 1,  9],\n",
       "        [ 2, 10],\n",
       "        [ 3, 11]],\n",
       "\n",
       "       [[ 4, 12],\n",
       "        [ 5, 13],\n",
       "        [ 6, 14],\n",
       "        [ 7, 15]]])"
      ]
     },
     "execution_count": 55,
     "metadata": {},
     "output_type": "execute_result"
    }
   ],
   "source": [
    "arr.transpose((1, 2, 0))"
   ]
  },
  {
   "cell_type": "code",
   "execution_count": null,
   "id": "emotional-baghdad",
   "metadata": {},
   "outputs": [],
   "source": []
  }
 ],
 "metadata": {
  "kernelspec": {
   "display_name": "Python 3",
   "language": "python",
   "name": "python3"
  },
  "language_info": {
   "codemirror_mode": {
    "name": "ipython",
    "version": 3
   },
   "file_extension": ".py",
   "mimetype": "text/x-python",
   "name": "python",
   "nbconvert_exporter": "python",
   "pygments_lexer": "ipython3",
   "version": "3.9.1"
  }
 },
 "nbformat": 4,
 "nbformat_minor": 5
}
